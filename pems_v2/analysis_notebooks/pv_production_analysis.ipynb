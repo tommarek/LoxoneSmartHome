{
 "cells": [
  {
   "cell_type": "markdown",
   "metadata": {},
   "source": [
    "# PV Production Analysis\n",
    "\n",
    "This notebook analyzes photovoltaic (PV) production patterns and their correlations with weather conditions.\n",
    "\n",
    "## Analysis Goals\n",
    "- Identify daily and seasonal PV production patterns\n",
    "- Correlate PV output with weather parameters (irradiance, cloud cover, temperature)\n",
    "- Analyze system efficiency and performance degradation\n",
    "- Forecast production based on weather predictions"
   ]
  },
  {
   "cell_type": "markdown",
   "metadata": {},
   "source": [
    "## 1. Setup and Imports"
   ]
  },
  {
   "cell_type": "code",
   "execution_count": null,
   "metadata": {},
   "outputs": [],
   "source": [
    "import pandas as pd\n",
    "import numpy as np\n",
    "import matplotlib.pyplot as plt\n",
    "import seaborn as sns\n",
    "from influxdb_client import InfluxDBClient\n",
    "from datetime import datetime, timedelta\n",
    "import pytz\n",
    "from scipy import stats\n",
    "from sklearn.linear_model import LinearRegression\n",
    "from sklearn.metrics import r2_score\n",
    "\n",
    "# Set up plotting style\n",
    "plt.style.use('seaborn-v0_8')\n",
    "sns.set_palette('husl')\n",
    "\n",
    "# Configure pandas display\n",
    "pd.set_option('display.max_columns', None)\n",
    "pd.set_option('display.max_rows', 100)"
   ]
  },
  {
   "cell_type": "markdown",
   "metadata": {},
   "source": [
    "## 2. Database Connection"
   ]
  },
  {
   "cell_type": "code",
   "execution_count": null,
   "metadata": {},
   "outputs": [],
   "source": [
    "# InfluxDB connection parameters\n",
    "INFLUX_URL = \"http://localhost:8086\"\n",
    "INFLUX_TOKEN = \"your-token-here\"\n",
    "INFLUX_ORG = \"loxone\"\n",
    "INFLUX_BUCKET = \"loxone\"\n",
    "\n",
    "# Initialize InfluxDB client\n",
    "client = InfluxDBClient(url=INFLUX_URL, token=INFLUX_TOKEN, org=INFLUX_ORG)\n",
    "query_api = client.query_api()"
   ]
  },
  {
   "cell_type": "markdown",
   "metadata": {},
   "source": [
    "## 3. Data Loading Functions"
   ]
  },
  {
   "cell_type": "code",
   "execution_count": null,
   "metadata": {},
   "outputs": [],
   "source": [
    "def load_pv_data(start_date, end_date):\n",
    "    \"\"\"Load PV production data from InfluxDB\"\"\"\n",
    "    query = f'''\n",
    "    from(bucket: \"{INFLUX_BUCKET}\")\n",
    "        |> range(start: {start_date}, stop: {end_date})\n",
    "        |> filter(fn: (r) => r[\"_measurement\"] == \"power\")\n",
    "        |> filter(fn: (r) => r[\"_field\"] =~ /pv_production|solar_power/)\n",
    "        |> aggregateWindow(every: 5m, fn: mean, createEmpty: false)\n",
    "        |> yield(name: \"pv_data\")\n",
    "    '''\n",
    "    # Execute query and convert to DataFrame\n",
    "    result = query_api.query_data_frame(query)\n",
    "    return result\n",
    "\n",
    "def load_weather_data(start_date, end_date):\n",
    "    \"\"\"Load weather data from InfluxDB\"\"\"\n",
    "    query = f'''\n",
    "    from(bucket: \"weather_forecast\")\n",
    "        |> range(start: {start_date}, stop: {end_date})\n",
    "        |> filter(fn: (r) => r[\"_measurement\"] == \"weather\")\n",
    "        |> filter(fn: (r) => r[\"_field\"] =~ /solar_radiation|cloud_cover|temperature/)\n",
    "        |> aggregateWindow(every: 5m, fn: mean, createEmpty: false)\n",
    "        |> yield(name: \"weather_data\")\n",
    "    '''\n",
    "    # Execute query and convert to DataFrame\n",
    "    result = query_api.query_data_frame(query)\n",
    "    return result"
   ]
  },
  {
   "cell_type": "markdown",
   "metadata": {},
   "source": [
    "## 4. Load and Prepare Data"
   ]
  },
  {
   "cell_type": "code",
   "execution_count": null,
   "metadata": {},
   "outputs": [],
   "source": [
    "# Define analysis period\n",
    "end_date = datetime.now(pytz.UTC)\n",
    "start_date = end_date - timedelta(days=30)\n",
    "\n",
    "# Load data\n",
    "print(f\"Loading data from {start_date} to {end_date}\")\n",
    "pv_data = load_pv_data(start_date.isoformat(), end_date.isoformat())\n",
    "weather_data = load_weather_data(start_date.isoformat(), end_date.isoformat())\n",
    "\n",
    "print(f\"PV data shape: {pv_data.shape}\")\n",
    "print(f\"Weather data shape: {weather_data.shape}\")"
   ]
  },
  {
   "cell_type": "markdown",
   "metadata": {},
   "source": [
    "## 5. Daily Production Pattern Analysis"
   ]
  },
  {
   "cell_type": "code",
   "execution_count": null,
   "metadata": {},
   "outputs": [],
   "source": [
    "# Analyze daily production patterns\n",
    "# Add hour of day column\n",
    "pv_data['hour'] = pd.to_datetime(pv_data['_time']).dt.hour\n",
    "pv_data['date'] = pd.to_datetime(pv_data['_time']).dt.date\n",
    "\n",
    "# Calculate hourly averages\n",
    "hourly_avg = pv_data.groupby('hour')['_value'].mean()\n",
    "\n",
    "# Plot daily production curve\n",
    "plt.figure(figsize=(12, 6))\n",
    "plt.plot(hourly_avg.index, hourly_avg.values, 'b-', linewidth=2)\n",
    "plt.fill_between(hourly_avg.index, hourly_avg.values, alpha=0.3)\n",
    "plt.xlabel('Hour of Day')\n",
    "plt.ylabel('Average PV Production (W)')\n",
    "plt.title('Average Daily PV Production Pattern')\n",
    "plt.grid(True, alpha=0.3)\n",
    "plt.xlim(0, 23)\n",
    "plt.show()"
   ]
  },
  {
   "cell_type": "markdown",
   "metadata": {},
   "source": [
    "## 6. Weather Correlation Analysis"
   ]
  },
  {
   "cell_type": "code",
   "execution_count": null,
   "metadata": {},
   "outputs": [],
   "source": [
    "# Merge PV and weather data\n",
    "# This is a placeholder - actual implementation would depend on data structure\n",
    "merged_data = pd.merge_asof(\n",
    "    pv_data.sort_values('_time'),\n",
    "    weather_data.sort_values('_time'),\n",
    "    on='_time',\n",
    "    direction='nearest',\n",
    "    tolerance=pd.Timedelta('5min')\n",
    ")\n",
    "\n",
    "# Create correlation matrix\n",
    "correlation_cols = ['pv_production', 'solar_radiation', 'cloud_cover', 'temperature']\n",
    "# Note: Column names would need to be adjusted based on actual data structure\n",
    "\n",
    "# Placeholder for correlation heatmap\n",
    "plt.figure(figsize=(10, 8))\n",
    "# sns.heatmap(merged_data[correlation_cols].corr(), annot=True, cmap='coolwarm', center=0)\n",
    "plt.title('Correlation between PV Production and Weather Parameters')\n",
    "plt.tight_layout()\n",
    "plt.show()"
   ]
  },
  {
   "cell_type": "markdown",
   "metadata": {},
   "source": [
    "## 7. Production Efficiency Analysis"
   ]
  },
  {
   "cell_type": "code",
   "execution_count": null,
   "metadata": {},
   "outputs": [],
   "source": [
    "# Calculate system efficiency\n",
    "# Placeholder for efficiency calculations\n",
    "\n",
    "# Example: Calculate daily peak production\n",
    "daily_peak = pv_data.groupby('date')['_value'].max()\n",
    "daily_total = pv_data.groupby('date')['_value'].sum() * 5 / 60  # Convert to kWh\n",
    "\n",
    "# Plot daily production trends\n",
    "fig, (ax1, ax2) = plt.subplots(2, 1, figsize=(14, 10))\n",
    "\n",
    "# Daily peak production\n",
    "ax1.plot(daily_peak.index, daily_peak.values, 'g-', label='Daily Peak')\n",
    "ax1.set_ylabel('Peak Production (W)')\n",
    "ax1.set_title('Daily Peak PV Production')\n",
    "ax1.grid(True, alpha=0.3)\n",
    "ax1.legend()\n",
    "\n",
    "# Daily total production\n",
    "ax2.bar(daily_total.index, daily_total.values, color='orange', alpha=0.7)\n",
    "ax2.set_ylabel('Total Production (kWh)')\n",
    "ax2.set_xlabel('Date')\n",
    "ax2.set_title('Daily Total PV Production')\n",
    "ax2.grid(True, alpha=0.3)\n",
    "\n",
    "plt.tight_layout()\n",
    "plt.show()"
   ]
  },
  {
   "cell_type": "markdown",
   "metadata": {},
   "source": [
    "## 8. Production Forecasting Model"
   ]
  },
  {
   "cell_type": "code",
   "execution_count": null,
   "metadata": {},
   "outputs": [],
   "source": [
    "# Simple linear regression model for PV production based on solar radiation\n",
    "# This is a placeholder - actual implementation would use merged data\n",
    "\n",
    "# Example model structure\n",
    "# X = merged_data[['solar_radiation', 'temperature', 'cloud_cover']].values\n",
    "# y = merged_data['pv_production'].values\n",
    "\n",
    "# model = LinearRegression()\n",
    "# model.fit(X, y)\n",
    "# predictions = model.predict(X)\n",
    "\n",
    "# Plot actual vs predicted\n",
    "plt.figure(figsize=(10, 8))\n",
    "# plt.scatter(y, predictions, alpha=0.5)\n",
    "# plt.plot([y.min(), y.max()], [y.min(), y.max()], 'r--', lw=2)\n",
    "plt.xlabel('Actual Production (W)')\n",
    "plt.ylabel('Predicted Production (W)')\n",
    "plt.title('PV Production: Actual vs Predicted')\n",
    "plt.grid(True, alpha=0.3)\n",
    "plt.show()"
   ]
  },
  {
   "cell_type": "markdown",
   "metadata": {},
   "source": [
    "## 9. Seasonal Analysis"
   ]
  },
  {
   "cell_type": "code",
   "execution_count": null,
   "metadata": {},
   "outputs": [],
   "source": [
    "# Analyze seasonal variations\n",
    "# Add month column\n",
    "pv_data['month'] = pd.to_datetime(pv_data['_time']).dt.month\n",
    "pv_data['month_name'] = pd.to_datetime(pv_data['_time']).dt.strftime('%B')\n",
    "\n",
    "# Monthly production boxplot\n",
    "plt.figure(figsize=(14, 8))\n",
    "# sns.boxplot(data=pv_data, x='month_name', y='_value')\n",
    "plt.xlabel('Month')\n",
    "plt.ylabel('PV Production (W)')\n",
    "plt.title('Monthly PV Production Distribution')\n",
    "plt.xticks(rotation=45)\n",
    "plt.grid(True, alpha=0.3)\n",
    "plt.tight_layout()\n",
    "plt.show()"
   ]
  },
  {
   "cell_type": "markdown",
   "metadata": {},
   "source": [
    "## 10. Key Findings and Recommendations\n",
    "\n",
    "### Summary Statistics"
   ]
  },
  {
   "cell_type": "code",
   "execution_count": null,
   "metadata": {},
   "outputs": [],
   "source": [
    "# Calculate summary statistics\n",
    "print(\"PV Production Summary:\")\n",
    "print(f\"Average daily production: {daily_total.mean():.2f} kWh\")\n",
    "print(f\"Peak daily production: {daily_total.max():.2f} kWh\")\n",
    "print(f\"Minimum daily production: {daily_total.min():.2f} kWh\")\n",
    "print(f\"Standard deviation: {daily_total.std():.2f} kWh\")\n",
    "print(f\"\\nPeak power recorded: {pv_data['_value'].max():.0f} W\")\n",
    "print(f\"Average peak hour: {hourly_avg.idxmax()}:00\")"
   ]
  },
  {
   "cell_type": "markdown",
   "metadata": {},
   "source": [
    "### Insights\n",
    "\n",
    "1. **Daily Pattern**: Document peak production hours and typical daily curve\n",
    "2. **Weather Impact**: Quantify the correlation between weather parameters and production\n",
    "3. **Seasonal Variation**: Identify months with highest/lowest production\n",
    "4. **System Efficiency**: Track any degradation or performance issues\n",
    "5. **Forecasting Accuracy**: Evaluate the prediction model performance\n",
    "\n",
    "### Recommendations\n",
    "\n",
    "- Optimize battery charging schedules based on production patterns\n",
    "- Plan maintenance during low production periods\n",
    "- Adjust consumption patterns to match production peaks\n",
    "- Consider weather forecasts for energy management decisions"
   ]
  }
 ],
 "metadata": {
  "kernelspec": {
   "display_name": "Python 3",
   "language": "python",
   "name": "python3"
  },
  "language_info": {
   "codemirror_mode": {
    "name": "ipython",
    "version": 3
   },
   "file_extension": ".py",
   "mimetype": "text/x-python",
   "name": "python",
   "nbconvert_exporter": "python",
   "pygments_lexer": "ipython3",
   "version": "3.11.0"
  }
 },
 "nbformat": 4,
 "nbformat_minor": 4
}