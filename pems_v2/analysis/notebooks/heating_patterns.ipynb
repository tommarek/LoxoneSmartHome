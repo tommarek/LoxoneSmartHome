{
 "cells": [
  {
   "cell_type": "markdown",
   "metadata": {},
   "source": [
    "# Heating Patterns Analysis\n",
    "\n",
    "This notebook analyzes heating usage patterns across different rooms in the smart home.\n",
    "\n",
    "## Analysis Goals\n",
    "- Identify room-specific heating patterns and schedules\n",
    "- Analyze temperature setpoints vs actual temperatures\n",
    "- Calculate heating energy consumption by room and time\n",
    "- Identify optimization opportunities for energy savings"
   ]
  },
  {
   "cell_type": "markdown",
   "metadata": {},
   "source": [
    "## 1. Setup and Imports"
   ]
  },
  {
   "cell_type": "code",
   "execution_count": null,
   "metadata": {},
   "outputs": [],
   "source": [
    "import pandas as pd\n",
    "import numpy as np\n",
    "import matplotlib.pyplot as plt\n",
    "import seaborn as sns\n",
    "from influxdb_client import InfluxDBClient\n",
    "from datetime import datetime, timedelta\n",
    "import pytz\n",
    "from scipy import signal\n",
    "import plotly.graph_objects as go\n",
    "import plotly.express as px\n",
    "from plotly.subplots import make_subplots\n",
    "\n",
    "# Set up plotting style\n",
    "plt.style.use('seaborn-v0_8')\n",
    "sns.set_palette('husl')\n",
    "\n",
    "# Configure pandas display\n",
    "pd.set_option('display.max_columns', None)\n",
    "pd.set_option('display.max_rows', 100)"
   ]
  },
  {
   "cell_type": "markdown",
   "metadata": {},
   "source": [
    "## 2. Database Connection"
   ]
  },
  {
   "cell_type": "code",
   "execution_count": null,
   "metadata": {},
   "outputs": [],
   "source": [
    "# InfluxDB connection parameters\n",
    "INFLUX_URL = \"http://localhost:8086\"\n",
    "INFLUX_TOKEN = \"your-token-here\"\n",
    "INFLUX_ORG = \"loxone\"\n",
    "INFLUX_BUCKET = \"loxone\"\n",
    "\n",
    "# Initialize InfluxDB client\n",
    "client = InfluxDBClient(url=INFLUX_URL, token=INFLUX_TOKEN, org=INFLUX_ORG)\n",
    "query_api = client.query_api()"
   ]
  },
  {
   "cell_type": "markdown",
   "metadata": {},
   "source": [
    "## 3. Data Loading Functions"
   ]
  },
  {
   "cell_type": "code",
   "execution_count": null,
   "metadata": {},
   "outputs": [],
   "source": [
    "def load_temperature_data(start_date, end_date):\n",
    "    \"\"\"Load room temperature data from InfluxDB\"\"\"\n",
    "    query = f'''\n",
    "    from(bucket: \"{INFLUX_BUCKET}\")\n",
    "        |> range(start: {start_date}, stop: {end_date})\n",
    "        |> filter(fn: (r) => r[\"_measurement\"] == \"temperature\")\n",
    "        |> filter(fn: (r) => r[\"room\"] != \"\")\n",
    "        |> aggregateWindow(every: 5m, fn: mean, createEmpty: false)\n",
    "        |> yield(name: \"temperature_data\")\n",
    "    '''\n",
    "    result = query_api.query_data_frame(query)\n",
    "    return result\n",
    "\n",
    "def load_heating_data(start_date, end_date):\n",
    "    \"\"\"Load heating valve/actuator data from InfluxDB\"\"\"\n",
    "    query = f'''\n",
    "    from(bucket: \"{INFLUX_BUCKET}\")\n",
    "        |> range(start: {start_date}, stop: {end_date})\n",
    "        |> filter(fn: (r) => r[\"_measurement\"] == \"heating\")\n",
    "        |> filter(fn: (r) => r[\"_field\"] =~ /valve_position|heating_demand|setpoint/)\n",
    "        |> aggregateWindow(every: 5m, fn: mean, createEmpty: false)\n",
    "        |> yield(name: \"heating_data\")\n",
    "    '''\n",
    "    result = query_api.query_data_frame(query)\n",
    "    return result\n",
    "\n",
    "def load_energy_data(start_date, end_date):\n",
    "    \"\"\"Load heating energy consumption data\"\"\"\n",
    "    query = f'''\n",
    "    from(bucket: \"{INFLUX_BUCKET}\")\n",
    "        |> range(start: {start_date}, stop: {end_date})\n",
    "        |> filter(fn: (r) => r[\"_measurement\"] == \"energy\")\n",
    "        |> filter(fn: (r) => r[\"_field\"] =~ /heating_consumption|heat_pump_power/)\n",
    "        |> aggregateWindow(every: 5m, fn: mean, createEmpty: false)\n",
    "        |> yield(name: \"energy_data\")\n",
    "    '''\n",
    "    result = query_api.query_data_frame(query)\n",
    "    return result"
   ]
  },
  {
   "cell_type": "markdown",
   "metadata": {},
   "source": [
    "## 4. Load and Prepare Data"
   ]
  },
  {
   "cell_type": "code",
   "execution_count": null,
   "metadata": {},
   "outputs": [],
   "source": [
    "# Define analysis period\n",
    "end_date = datetime.now(pytz.UTC)\n",
    "start_date = end_date - timedelta(days=7)\n",
    "\n",
    "# Load data\n",
    "print(f\"Loading data from {start_date} to {end_date}\")\n",
    "temp_data = load_temperature_data(start_date.isoformat(), end_date.isoformat())\n",
    "heating_data = load_heating_data(start_date.isoformat(), end_date.isoformat())\n",
    "energy_data = load_energy_data(start_date.isoformat(), end_date.isoformat())\n",
    "\n",
    "print(f\"Temperature data shape: {temp_data.shape}\")\n",
    "print(f\"Heating data shape: {heating_data.shape}\")\n",
    "print(f\"Energy data shape: {energy_data.shape}\")\n",
    "\n",
    "# Get list of rooms\n",
    "rooms = temp_data['room'].unique() if 'room' in temp_data.columns else []\n",
    "print(f\"\\nRooms found: {list(rooms)}\")"
   ]
  },
  {
   "cell_type": "markdown",
   "metadata": {},
   "source": [
    "## 5. Room Temperature Analysis"
   ]
  },
  {
   "cell_type": "code",
   "execution_count": null,
   "metadata": {},
   "outputs": [],
   "source": [
    "# Analyze temperature patterns by room\n",
    "if 'room' in temp_data.columns:\n",
    "    # Create interactive plot with plotly\n",
    "    fig = make_subplots(\n",
    "        rows=len(rooms), cols=1,\n",
    "        subplot_titles=[f'Temperature: {room}' for room in rooms],\n",
    "        shared_xaxes=True\n",
    "    )\n",
    "    \n",
    "    for i, room in enumerate(rooms, 1):\n",
    "        room_data = temp_data[temp_data['room'] == room]\n",
    "        fig.add_trace(\n",
    "            go.Scatter(\n",
    "                x=room_data['_time'],\n",
    "                y=room_data['_value'],\n",
    "                name=room,\n",
    "                mode='lines'\n",
    "            ),\n",
    "            row=i, col=1\n",
    "        )\n",
    "    \n",
    "    fig.update_layout(\n",
    "        height=200*len(rooms),\n",
    "        title_text=\"Room Temperature Patterns\",\n",
    "        showlegend=False\n",
    "    )\n",
    "    fig.update_xaxes(title_text=\"Time\", row=len(rooms), col=1)\n",
    "    fig.update_yaxes(title_text=\"Temperature (°C)\")\n",
    "    fig.show()\n",
    "else:\n",
    "    print(\"No room data available in temperature measurements\")"
   ]
  },
  {
   "cell_type": "markdown",
   "metadata": {},
   "source": [
    "## 6. Heating Schedule Analysis"
   ]
  },
  {
   "cell_type": "code",
   "execution_count": null,
   "metadata": {},
   "outputs": [],
   "source": [
    "# Analyze heating schedules by hour of day and day of week\n",
    "if not temp_data.empty:\n",
    "    temp_data['hour'] = pd.to_datetime(temp_data['_time']).dt.hour\n",
    "    temp_data['weekday'] = pd.to_datetime(temp_data['_time']).dt.day_name()\n",
    "    temp_data['is_weekend'] = pd.to_datetime(temp_data['_time']).dt.weekday >= 5\n",
    "    \n",
    "    # Average temperature by hour for weekdays vs weekends\n",
    "    hourly_patterns = temp_data.groupby(['hour', 'is_weekend', 'room'])['_value'].mean().reset_index()\n",
    "    \n",
    "    # Plot heating patterns\n",
    "    fig, axes = plt.subplots(2, 2, figsize=(16, 12))\n",
    "    axes = axes.flatten()\n",
    "    \n",
    "    for idx, room in enumerate(rooms[:4]):  # Plot first 4 rooms\n",
    "        room_patterns = hourly_patterns[hourly_patterns['room'] == room]\n",
    "        weekday_data = room_patterns[~room_patterns['is_weekend']]\n",
    "        weekend_data = room_patterns[room_patterns['is_weekend']]\n",
    "        \n",
    "        ax = axes[idx]\n",
    "        ax.plot(weekday_data['hour'], weekday_data['_value'], 'b-', label='Weekday', linewidth=2)\n",
    "        ax.plot(weekend_data['hour'], weekend_data['_value'], 'r-', label='Weekend', linewidth=2)\n",
    "        ax.set_xlabel('Hour of Day')\n",
    "        ax.set_ylabel('Temperature (°C)')\n",
    "        ax.set_title(f'{room} - Daily Temperature Pattern')\n",
    "        ax.legend()\n",
    "        ax.grid(True, alpha=0.3)\n",
    "        ax.set_xlim(0, 23)\n",
    "    \n",
    "    plt.tight_layout()\n",
    "    plt.show()"
   ]
  },
  {
   "cell_type": "markdown",
   "metadata": {},
   "source": [
    "## 7. Setpoint vs Actual Temperature Analysis"
   ]
  },
  {
   "cell_type": "code",
   "execution_count": null,
   "metadata": {},
   "outputs": [],
   "source": [
    "# Compare setpoints with actual temperatures\n",
    "# This section would merge temperature and setpoint data\n",
    "\n",
    "# Placeholder for analysis\n",
    "print(\"Setpoint vs Actual Temperature Analysis\")\n",
    "print(\"=======================================\")\n",
    "print(\"This analysis would show:\")\n",
    "print(\"- How well rooms maintain their setpoint temperatures\")\n",
    "print(\"- Average deviation from setpoint by room\")\n",
    "print(\"- Time to reach setpoint after changes\")\n",
    "print(\"- Overshoot/undershoot patterns\")\n",
    "\n",
    "# Example visualization structure\n",
    "fig, ax = plt.subplots(figsize=(12, 8))\n",
    "# Placeholder scatter plot\n",
    "ax.set_xlabel('Setpoint Temperature (°C)')\n",
    "ax.set_ylabel('Actual Temperature (°C)')\n",
    "ax.set_title('Setpoint vs Actual Temperature')\n",
    "ax.plot([18, 24], [18, 24], 'r--', label='Perfect Match')\n",
    "ax.legend()\n",
    "ax.grid(True, alpha=0.3)\n",
    "plt.show()"
   ]
  },
  {
   "cell_type": "markdown",
   "metadata": {},
   "source": [
    "## 8. Energy Consumption Analysis"
   ]
  },
  {
   "cell_type": "code",
   "execution_count": null,
   "metadata": {},
   "outputs": [],
   "source": [
    "# Analyze heating energy consumption patterns\n",
    "if not energy_data.empty:\n",
    "    energy_data['hour'] = pd.to_datetime(energy_data['_time']).dt.hour\n",
    "    energy_data['date'] = pd.to_datetime(energy_data['_time']).dt.date\n",
    "    \n",
    "    # Daily energy consumption\n",
    "    daily_consumption = energy_data.groupby('date')['_value'].sum() * 5 / 60  # Convert to kWh\n",
    "    \n",
    "    # Hourly consumption pattern\n",
    "    hourly_consumption = energy_data.groupby('hour')['_value'].mean()\n",
    "    \n",
    "    fig, (ax1, ax2) = plt.subplots(2, 1, figsize=(14, 10))\n",
    "    \n",
    "    # Daily consumption\n",
    "    ax1.bar(daily_consumption.index, daily_consumption.values, color='orange')\n",
    "    ax1.set_ylabel('Energy Consumption (kWh)')\n",
    "    ax1.set_title('Daily Heating Energy Consumption')\n",
    "    ax1.grid(True, alpha=0.3)\n",
    "    \n",
    "    # Hourly pattern\n",
    "    ax2.plot(hourly_consumption.index, hourly_consumption.values, 'b-', linewidth=2)\n",
    "    ax2.fill_between(hourly_consumption.index, hourly_consumption.values, alpha=0.3)\n",
    "    ax2.set_xlabel('Hour of Day')\n",
    "    ax2.set_ylabel('Average Power (W)')\n",
    "    ax2.set_title('Average Hourly Heating Power Consumption')\n",
    "    ax2.set_xlim(0, 23)\n",
    "    ax2.grid(True, alpha=0.3)\n",
    "    \n",
    "    plt.tight_layout()\n",
    "    plt.show()\n",
    "    \n",
    "    # Calculate statistics\n",
    "    print(f\"\\nHeating Energy Statistics:\")\n",
    "    print(f\"Average daily consumption: {daily_consumption.mean():.2f} kWh\")\n",
    "    print(f\"Peak daily consumption: {daily_consumption.max():.2f} kWh\")\n",
    "    print(f\"Total consumption (period): {daily_consumption.sum():.2f} kWh\")"
   ]
  },
  {
   "cell_type": "markdown",
   "metadata": {},
   "source": [
    "## 9. Room Efficiency Analysis"
   ]
  },
  {
   "cell_type": "code",
   "execution_count": null,
   "metadata": {},
   "outputs": [],
   "source": [
    "# Analyze heating efficiency by room\n",
    "# This would calculate metrics like:\n",
    "# - Temperature stability (standard deviation)\n",
    "# - Response time to heating\n",
    "# - Energy per degree of heating\n",
    "\n",
    "if 'room' in temp_data.columns:\n",
    "    room_stats = temp_data.groupby('room')['_value'].agg(['mean', 'std', 'min', 'max'])\n",
    "    room_stats['range'] = room_stats['max'] - room_stats['min']\n",
    "    room_stats = room_stats.round(2)\n",
    "    \n",
    "    print(\"Room Temperature Statistics\")\n",
    "    print(\"==========================\")\n",
    "    print(room_stats)\n",
    "    \n",
    "    # Visualize room efficiency\n",
    "    fig, ax = plt.subplots(figsize=(10, 6))\n",
    "    room_stats['std'].plot(kind='bar', ax=ax, color='skyblue')\n",
    "    ax.set_xlabel('Room')\n",
    "    ax.set_ylabel('Temperature Std Dev (°C)')\n",
    "    ax.set_title('Temperature Stability by Room (Lower is Better)')\n",
    "    ax.grid(True, alpha=0.3)\n",
    "    plt.xticks(rotation=45)\n",
    "    plt.tight_layout()\n",
    "    plt.show()"
   ]
  },
  {
   "cell_type": "markdown",
   "metadata": {},
   "source": [
    "## 10. Optimization Opportunities"
   ]
  },
  {
   "cell_type": "code",
   "execution_count": null,
   "metadata": {},
   "outputs": [],
   "source": [
    "# Identify optimization opportunities\n",
    "print(\"Heating Optimization Opportunities\")\n",
    "print(\"=================================\")\n",
    "\n",
    "# 1. Identify overheated periods\n",
    "if not temp_data.empty:\n",
    "    overheated = temp_data[temp_data['_value'] > 23]  # Assuming 23°C as upper comfort limit\n",
    "    if not overheated.empty:\n",
    "        overheated_hours = overheated.groupby('hour').size()\n",
    "        print(f\"\\n1. Overheating detected during hours: {list(overheated_hours.index)}\")\n",
    "    \n",
    "    # 2. Identify rooms with high variability\n",
    "    if 'room' in temp_data.columns:\n",
    "        high_variability = room_stats[room_stats['std'] > 1.0]\n",
    "        if not high_variability.empty:\n",
    "            print(f\"\\n2. Rooms with high temperature variability: {list(high_variability.index)}\")\n",
    "    \n",
    "    # 3. Identify potential schedule optimizations\n",
    "    night_temps = temp_data[temp_data['hour'].between(0, 6)]\n",
    "    avg_night_temp = night_temps.groupby('room')['_value'].mean()\n",
    "    high_night_temp = avg_night_temp[avg_night_temp > 20]\n",
    "    if not high_night_temp.empty:\n",
    "        print(f\"\\n3. Rooms with high night temperatures: {list(high_night_temp.index)}\")\n",
    "        print(\"   Consider reducing night setpoints for energy savings\")\n",
    "\n",
    "# 4. Calculate potential savings\n",
    "print(\"\\n4. Potential Energy Savings:\")\n",
    "print(\"   - 1°C reduction in average temperature: ~6% energy savings\")\n",
    "print(\"   - Optimized scheduling: 10-15% potential savings\")\n",
    "print(\"   - Zone-based control: 5-10% additional savings\")"
   ]
  },
  {
   "cell_type": "markdown",
   "metadata": {},
   "source": [
    "## 11. Key Findings and Recommendations\n",
    "\n",
    "### Summary\n",
    "\n",
    "Based on the heating pattern analysis, document:\n",
    "\n",
    "1. **Current Heating Patterns**\n",
    "   - Peak heating hours\n",
    "   - Room-specific schedules\n",
    "   - Weekend vs weekday differences\n",
    "\n",
    "2. **Energy Consumption**\n",
    "   - Daily consumption trends\n",
    "   - High consumption periods\n",
    "   - Room efficiency rankings\n",
    "\n",
    "3. **Optimization Opportunities**\n",
    "   - Schedule adjustments\n",
    "   - Temperature setpoint optimization\n",
    "   - Zone control improvements\n",
    "\n",
    "### Recommendations\n",
    "\n",
    "1. **Immediate Actions**\n",
    "   - Reduce night-time setpoints in unoccupied rooms\n",
    "   - Adjust heating schedules based on actual occupancy\n",
    "   - Fix rooms with poor temperature stability\n",
    "\n",
    "2. **Medium-term Improvements**\n",
    "   - Implement predictive heating based on weather forecasts\n",
    "   - Optimize heat pump operation for efficiency\n",
    "   - Consider zone-based control strategies\n",
    "\n",
    "3. **Long-term Strategies**\n",
    "   - Upgrade insulation in rooms with high heat loss\n",
    "   - Install smart thermostatic valves\n",
    "   - Integrate with renewable energy production"
   ]
  }
 ],
 "metadata": {
  "kernelspec": {
   "display_name": "Python 3",
   "language": "python",
   "name": "python3"
  },
  "language_info": {
   "codemirror_mode": {
    "name": "ipython",
    "version": 3
   },
   "file_extension": ".py",
   "mimetype": "text/x-python",
   "name": "python",
   "nbconvert_exporter": "python",
   "pygments_lexer": "ipython3",
   "version": "3.11.0"
  }
 },
 "nbformat": 4,
 "nbformat_minor": 4
}