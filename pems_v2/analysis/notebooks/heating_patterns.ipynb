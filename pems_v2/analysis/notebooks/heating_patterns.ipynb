{
 "cells": [
  {
   "cell_type": "markdown",
   "metadata": {},
   "source": "# Heating Relay Patterns Analysis\n\nThis notebook analyzes heating relay on/off patterns across different rooms in the Loxone smart home system.\n\n## Analysis Goals\n- Analyze relay switching patterns (on/off cycles) by room\n- Calculate heating duty cycles and energy consumption \n- Identify room-specific heating schedules and patterns\n- Optimize relay switching for energy efficiency\n- Calculate actual power consumption from relay states using room power ratings",
   "outputs": []
  },
  {
   "cell_type": "markdown",
   "metadata": {},
   "source": [
    "## 1. Setup and Imports"
   ]
  },
  {
   "cell_type": "code",
   "execution_count": null,
   "metadata": {},
   "outputs": [],
   "source": [
    "import pandas as pd\n",
    "import numpy as np\n",
    "import matplotlib.pyplot as plt\n",
    "import seaborn as sns\n",
    "from influxdb_client import InfluxDBClient\n",
    "from datetime import datetime, timedelta\n",
    "import pytz\n",
    "from scipy import signal\n",
    "import plotly.graph_objects as go\n",
    "import plotly.express as px\n",
    "from plotly.subplots import make_subplots\n",
    "\n",
    "# Set up plotting style\n",
    "plt.style.use('seaborn-v0_8')\n",
    "sns.set_palette('husl')\n",
    "\n",
    "# Configure pandas display\n",
    "pd.set_option('display.max_columns', None)\n",
    "pd.set_option('display.max_rows', 100)"
   ]
  },
  {
   "cell_type": "markdown",
   "metadata": {},
   "source": [
    "## 2. Database Connection"
   ]
  },
  {
   "cell_type": "code",
   "metadata": {},
   "outputs": [],
   "source": "# InfluxDB connection parameters\nINFLUX_URL = \"http://192.168.0.201:8086\"\nINFLUX_TOKEN = \"7HrEuj8kzOS1f-0mjU_GT4hS_9gHfdjUT6j5QAM22oDg0z44DsxmiveTGMqTa0Zl1QezDh132utLbXi-IL8h9A==\"\nINFLUX_ORG = \"loxone\"\nINFLUX_BUCKET = \"loxone\"\n\n# Room heating power ratings (kW) from your Loxone system\nROOM_POWER = {\n    \"hosti\": 2.02, \"chodba_dole\": 1.8, \"chodba_nahore\": 1.2, \"koupelna_dole\": 0.47, \n    \"koupelna_nahore\": 0.62, \"loznice\": 1.2, \"obyvak\": 4.8, \"pokoj_1\": 1.2, \n    \"pokoj_2\": 1.2, \"pracovna\": 0.82, \"satna_dole\": 0.82, \"satna_nahore\": 0.56,\n    \"spajz\": 0.46, \"technicka_mistnost\": 0.82, \"zadveri\": 0.82, \"zachod\": 0.22\n}\n\n# Initialize InfluxDB client\nclient = InfluxDBClient(url=INFLUX_URL, token=INFLUX_TOKEN, org=INFLUX_ORG)\nquery_api = client.query_api()"
  },
  {
   "cell_type": "markdown",
   "metadata": {},
   "source": [
    "## 3. Data Loading Functions"
   ]
  },
  {
   "cell_type": "code",
   "metadata": {},
   "outputs": [],
   "source": "def load_temperature_data(start_date, end_date):\n    \"\"\"Load room temperature data from InfluxDB\"\"\"\n    query = f'''\n    from(bucket: \"{INFLUX_BUCKET}\")\n        |> range(start: {start_date}, stop: {end_date})\n        |> filter(fn: (r) => r[\"_measurement\"] == \"temperature\")\n        |> aggregateWindow(every: 5m, fn: mean, createEmpty: false)\n        |> keep(columns: [\"_time\", \"_value\", \"_field\"])\n    '''\n    result = query_api.query_data_frame(query)\n    return result\n\ndef load_relay_data(start_date, end_date):\n    \"\"\"Load heating relay on/off data from InfluxDB\"\"\"\n    query = f'''\n    from(bucket: \"{INFLUX_BUCKET}\")\n        |> range(start: {start_date}, stop: {end_date})\n        |> filter(fn: (r) => r._measurement == \"relay\" and r.tag1 == \"heating\" and r.room != \"kuchyne\")\n        |> aggregateWindow(every: 15m, fn: mean, createEmpty: false)\n        |> keep(columns: [\"_time\", \"_value\", \"room\"])\n    '''\n    result = query_api.query_data_frame(query)\n    return result\n\ndef calculate_power_consumption(relay_data):\n    \"\"\"Calculate actual power consumption from relay states and room power ratings\"\"\"\n    if relay_data.empty:\n        return relay_data\n    \n    # Create power consumption column\n    relay_data['power_kw'] = relay_data.apply(\n        lambda row: row['_value'] * ROOM_POWER.get(row['room'], 0) if 'room' in row else 0, \n        axis=1\n    )\n    relay_data['power_w'] = relay_data['power_kw'] * 1000\n    \n    return relay_data\n\ndef analyze_relay_cycles(relay_data):\n    \"\"\"Analyze relay on/off cycling patterns\"\"\"\n    cycles = {}\n    \n    for room in relay_data['room'].unique():\n        room_data = relay_data[relay_data['room'] == room].copy()\n        room_data = room_data.sort_values('_time')\n        \n        # Calculate duty cycle (percentage of time relay is on)\n        duty_cycle = room_data['_value'].mean() * 100\n        \n        # Count switching events (state changes)\n        room_data['state_change'] = room_data['_value'].diff().abs() > 0.1\n        switches = room_data['state_change'].sum()\n        \n        # Calculate average on/off periods\n        on_periods = []\n        off_periods = []\n        current_state = None\n        current_start = None\n        \n        for _, row in room_data.iterrows():\n            state = row['_value'] > 0.5  # Consider >0.5 as \"on\"\n            \n            if current_state is None:\n                current_state = state\n                current_start = row['_time']\n            elif current_state != state:\n                duration = (row['_time'] - current_start).total_seconds() / 60  # minutes\n                \n                if current_state:  # Was on, now off\n                    on_periods.append(duration)\n                else:  # Was off, now on\n                    off_periods.append(duration)\n                \n                current_state = state\n                current_start = row['_time']\n        \n        cycles[room] = {\n            'duty_cycle_percent': duty_cycle,\n            'total_switches': switches,\n            'avg_on_minutes': np.mean(on_periods) if on_periods else 0,\n            'avg_off_minutes': np.mean(off_periods) if off_periods else 0,\n            'total_on_time_hours': sum(on_periods) / 60 if on_periods else 0,\n            'power_rating_kw': ROOM_POWER.get(room, 0),\n            'total_energy_kwh': (sum(on_periods) / 60) * ROOM_POWER.get(room, 0) if on_periods else 0\n        }\n    \n    return cycles"
  },
  {
   "cell_type": "markdown",
   "metadata": {},
   "source": [
    "## 4. Load and Prepare Data"
   ]
  },
  {
   "cell_type": "code",
   "metadata": {},
   "outputs": [],
   "source": "# Define analysis period - last 30 days for comprehensive relay pattern analysis\nend_date = datetime.now(pytz.UTC)\nstart_date = end_date - timedelta(days=30)\n\n# Load data\nprint(f\"Loading relay and temperature data from {start_date.strftime('%Y-%m-%d')} to {end_date.strftime('%Y-%m-%d')}\")\ntemp_data = load_temperature_data(start_date.isoformat(), end_date.isoformat())\nrelay_data = load_relay_data(start_date.isoformat(), end_date.isoformat())\n\nprint(f\"Temperature data shape: {temp_data.shape}\")\nprint(f\"Relay data shape: {relay_data.shape}\")\n\nif not relay_data.empty:\n    # Calculate power consumption from relay states\n    relay_data = calculate_power_consumption(relay_data)\n    \n    # Get list of rooms with heating relays\n    rooms = relay_data['room'].unique()\n    print(f\"\\nRooms with heating relays: {list(rooms)}\")\n    \n    # Show relay state statistics\n    print(f\"\\nRelay Statistics:\")\n    for room in rooms:\n        room_relays = relay_data[relay_data['room'] == room]\n        on_time_pct = (room_relays['_value'].mean() * 100)\n        max_power = ROOM_POWER.get(room, 0) * 1000\n        print(f\"  {room:20s}: {on_time_pct:5.1f}% on-time, {max_power:6.0f}W max power\")\nelse:\n    print(\"No relay data found - check if heating system was active during this period\")"
  },
  {
   "cell_type": "markdown",
   "metadata": {},
   "source": [
    "## 5. Room Temperature Analysis"
   ]
  },
  {
   "cell_type": "code",
   "metadata": {},
   "outputs": [],
   "source": "# Analyze relay switching patterns for each room\nif not relay_data.empty:\n    # Create relay state timeline plot\n    fig = make_subplots(\n        rows=len(rooms), cols=1,\n        subplot_titles=[f'Heating Relay: {room} ({ROOM_POWER.get(room, 0):.1f}kW)' for room in rooms],\n        shared_xaxes=True\n    )\n    \n    for i, room in enumerate(rooms, 1):\n        room_data = relay_data[relay_data['room'] == room]\n        \n        # Create binary state plot (0=off, 1=on)\n        fig.add_trace(\n            go.Scatter(\n                x=room_data['_time'],\n                y=room_data['_value'],\n                name=f'{room} Relay',\n                mode='lines',\n                line=dict(width=2, shape='hv'),  # Step-like appearance for relay states\n                fill='tonexty' if i > 1 else 'tozeroy',\n                fillcolor=f'rgba({50 + i*30}, {100 + i*20}, {200 - i*10}, 0.3)'\n            ),\n            row=i, col=1\n        )\n        \n        # Add power consumption on secondary y-axis\n        fig.add_trace(\n            go.Scatter(\n                x=room_data['_time'],\n                y=room_data['power_w'],\n                name=f'{room} Power',\n                mode='lines',\n                line=dict(color='red', width=1),\n                yaxis=f'y{i}' if i > 1 else 'y',\n                visible='legendonly'  # Hidden by default\n            ),\n            row=i, col=1\n        )\n    \n    fig.update_layout(\n        height=150*len(rooms),\n        title_text=\"Heating Relay States and Power Consumption\",\n        showlegend=True\n    )\n    \n    # Update y-axes\n    for i in range(1, len(rooms)+1):\n        fig.update_yaxes(title_text=\"Relay State\", range=[-0.1, 1.1], row=i, col=1)\n    \n    fig.update_xaxes(title_text=\"Time\", row=len(rooms), col=1)\n    fig.show()\nelse:\n    print(\"No relay data available for visualization\")"
  },
  {
   "cell_type": "markdown",
   "metadata": {},
   "source": [
    "## 6. Heating Schedule Analysis"
   ]
  },
  {
   "cell_type": "code",
   "metadata": {},
   "outputs": [],
   "source": "# Analyze daily and hourly heating patterns\nif not relay_data.empty:\n    relay_data['hour'] = pd.to_datetime(relay_data['_time']).dt.hour\n    relay_data['weekday'] = pd.to_datetime(relay_data['_time']).dt.day_name()\n    relay_data['is_weekend'] = pd.to_datetime(relay_data['_time']).dt.weekday >= 5\n    \n    # Calculate hourly duty cycles\n    hourly_patterns = relay_data.groupby(['hour', 'is_weekend', 'room'])['_value'].mean().reset_index()\n    hourly_patterns['duty_cycle_percent'] = hourly_patterns['_value'] * 100\n    \n    # Plot heating patterns by hour and day type\n    fig, axes = plt.subplots(2, 2, figsize=(16, 12))\n    axes = axes.flatten()\n    \n    plot_rooms = rooms[:4] if len(rooms) >= 4 else rooms\n    \n    for idx, room in enumerate(plot_rooms):\n        room_patterns = hourly_patterns[hourly_patterns['room'] == room]\n        weekday_data = room_patterns[~room_patterns['is_weekend']]\n        weekend_data = room_patterns[room_patterns['is_weekend']]\n        \n        ax = axes[idx]\n        ax.plot(weekday_data['hour'], weekday_data['duty_cycle_percent'], 'b-', \n                label='Weekday', linewidth=2, marker='o')\n        ax.plot(weekend_data['hour'], weekend_data['duty_cycle_percent'], 'r-', \n                label='Weekend', linewidth=2, marker='s')\n        ax.set_xlabel('Hour of Day')\n        ax.set_ylabel('Heating Duty Cycle (%)')\n        ax.set_title(f'{room} - Daily Heating Pattern ({ROOM_POWER.get(room, 0):.1f}kW)')\n        ax.legend()\n        ax.grid(True, alpha=0.3)\n        ax.set_xlim(0, 23)\n        ax.set_ylim(0, max(100, room_patterns['duty_cycle_percent'].max() * 1.1))\n    \n    plt.tight_layout()\n    plt.show()\n    \n    # Summary statistics\n    print(\"\\\\nHeating Schedule Analysis:\")\n    print(\"=\" * 50)\n    for room in rooms:\n        room_data = hourly_patterns[hourly_patterns['room'] == room]\n        if not room_data.empty:\n            peak_hour = room_data.loc[room_data['duty_cycle_percent'].idxmax(), 'hour']\n            peak_duty = room_data['duty_cycle_percent'].max()\n            avg_duty = room_data['duty_cycle_percent'].mean()\n            print(f\"{room:20s}: Peak {peak_duty:5.1f}% at {peak_hour:2.0f}:00, Avg {avg_duty:5.1f}%\")\nelse:\n    print(\"No relay data available for schedule analysis\")"
  },
  {
   "cell_type": "markdown",
   "metadata": {},
   "source": [
    "## 7. Setpoint vs Actual Temperature Analysis"
   ]
  },
  {
   "cell_type": "code",
   "execution_count": null,
   "metadata": {},
   "outputs": [],
   "source": [
    "# Compare setpoints with actual temperatures\n",
    "# This section would merge temperature and setpoint data\n",
    "\n",
    "# Placeholder for analysis\n",
    "print(\"Setpoint vs Actual Temperature Analysis\")\n",
    "print(\"=======================================\")\n",
    "print(\"This analysis would show:\")\n",
    "print(\"- How well rooms maintain their setpoint temperatures\")\n",
    "print(\"- Average deviation from setpoint by room\")\n",
    "print(\"- Time to reach setpoint after changes\")\n",
    "print(\"- Overshoot/undershoot patterns\")\n",
    "\n",
    "# Example visualization structure\n",
    "fig, ax = plt.subplots(figsize=(12, 8))\n",
    "# Placeholder scatter plot\n",
    "ax.set_xlabel('Setpoint Temperature (°C)')\n",
    "ax.set_ylabel('Actual Temperature (°C)')\n",
    "ax.set_title('Setpoint vs Actual Temperature')\n",
    "ax.plot([18, 24], [18, 24], 'r--', label='Perfect Match')\n",
    "ax.legend()\n",
    "ax.grid(True, alpha=0.3)\n",
    "plt.show()"
   ]
  },
  {
   "cell_type": "markdown",
   "metadata": {},
   "source": [
    "## 8. Energy Consumption Analysis"
   ]
  },
  {
   "cell_type": "code",
   "metadata": {},
   "outputs": [],
   "source": "# Analyze total energy consumption from relay data\nif not relay_data.empty:\n    # Calculate daily total energy consumption across all rooms\n    relay_data['date'] = pd.to_datetime(relay_data['_time']).dt.date\n    \n    # Calculate energy per 15-minute interval: power_kw * (15/60) hours\n    relay_data['energy_kwh_interval'] = relay_data['power_kw'] * 0.25  # 15 minutes = 0.25 hours\n    \n    # Daily consumption by room\n    daily_by_room = relay_data.groupby(['date', 'room'])['energy_kwh_interval'].sum().reset_index()\n    \n    # Total daily consumption\n    daily_total = relay_data.groupby('date')['energy_kwh_interval'].sum()\n    \n    # Hourly consumption pattern\n    hourly_consumption = relay_data.groupby('hour')['power_kw'].sum()  # Total power across all rooms\n    \n    fig, ((ax1, ax2), (ax3, ax4)) = plt.subplots(2, 2, figsize=(16, 12))\n    \n    # 1. Daily total consumption\n    ax1.bar(range(len(daily_total)), daily_total.values, color='orange', alpha=0.7)\n    ax1.set_ylabel('Energy Consumption (kWh)')\n    ax1.set_title('Daily Total Heating Energy Consumption')\n    ax1.set_xlabel('Days')\n    ax1.grid(True, alpha=0.3)\n    \n    # 2. Hourly power pattern\n    ax2.plot(hourly_consumption.index, hourly_consumption.values, 'b-', linewidth=2, marker='o')\n    ax2.fill_between(hourly_consumption.index, hourly_consumption.values, alpha=0.3)\n    ax2.set_xlabel('Hour of Day')\n    ax2.set_ylabel('Total Heating Power (kW)')\n    ax2.set_title('Average Hourly Heating Power (All Rooms)')\n    ax2.set_xlim(0, 23)\n    ax2.grid(True, alpha=0.3)\n    \n    # 3. Energy consumption by room (stacked)\n    room_daily_pivot = daily_by_room.pivot(index='date', columns='room', values='energy_kwh_interval').fillna(0)\n    room_daily_pivot.plot(kind='bar', stacked=True, ax=ax3, legend=True)\n    ax3.set_ylabel('Energy Consumption (kWh)')\n    ax3.set_title('Daily Energy Consumption by Room')\n    ax3.tick_params(axis='x', rotation=45)\n    \n    # 4. Room power ratings comparison\n    room_powers = [ROOM_POWER.get(room, 0) for room in rooms]\n    ax4.bar(rooms, room_powers, color='skyblue', alpha=0.7)\n    ax4.set_ylabel('Heating Power Rating (kW)')\n    ax4.set_title('Room Heating Power Ratings')\n    ax4.tick_params(axis='x', rotation=45)\n    ax4.grid(True, alpha=0.3)\n    \n    plt.tight_layout()\n    plt.show()\n    \n    # Calculate and display statistics\n    print(f\"\\\\nRelay-Based Energy Statistics:\")\n    print(\"=\" * 50)\n    print(f\"Analysis period: {len(daily_total)} days\")\n    print(f\"Average daily consumption: {daily_total.mean():.2f} kWh\")\n    print(f\"Peak daily consumption: {daily_total.max():.2f} kWh\")\n    print(f\"Total consumption (period): {daily_total.sum():.2f} kWh\")\n    print(f\"Estimated annual consumption: {(daily_total.mean() * 365):.0f} kWh\")\n    \n    # Peak heating times\n    peak_hour = hourly_consumption.idxmax()\n    peak_power = hourly_consumption.max()\n    print(f\"Peak heating hour: {peak_hour}:00 ({peak_power:.1f} kW total)\")\n    \n    # Room-specific statistics\n    print(f\"\\\\nRoom-Specific Energy Analysis:\")\n    print(\"-\" * 40)\n    for room in rooms:\n        room_data = relay_data[relay_data['room'] == room]\n        total_energy = room_data['energy_kwh_interval'].sum()\n        duty_cycle = room_data['_value'].mean() * 100\n        power_rating = ROOM_POWER.get(room, 0)\n        print(f\"{room:20s}: {total_energy:6.1f} kWh, {duty_cycle:5.1f}% duty, {power_rating:4.1f}kW rated\")\nelse:\n    print(\"No relay data available for energy analysis\")"
  },
  {
   "cell_type": "markdown",
   "metadata": {},
   "source": [
    "## 9. Room Efficiency Analysis"
   ]
  },
  {
   "cell_type": "code",
   "metadata": {},
   "outputs": [],
   "source": "# Analyze relay switching efficiency and cycles\nif not relay_data.empty:\n    # Get detailed cycling analysis\n    cycle_analysis = analyze_relay_cycles(relay_data)\n    \n    # Convert to DataFrame for easier analysis\n    cycle_df = pd.DataFrame.from_dict(cycle_analysis, orient='index')\n    cycle_df = cycle_df.round(2)\n    \n    print(\"Relay Cycling Analysis\")\n    print(\"=\" * 60)\n    print(f\"{'Room':<20} {'Duty%':<8} {'Switches':<10} {'Avg On(min)':<12} {'Avg Off(min)':<12} {'Energy(kWh)':<12}\")\n    print(\"-\" * 60)\n    \n    for room in cycle_df.index:\n        stats = cycle_df.loc[room]\n        print(f\"{room:<20} {stats['duty_cycle_percent']:<8.1f} {stats['total_switches']:<10.0f} \"\n              f\"{stats['avg_on_minutes']:<12.1f} {stats['avg_off_minutes']:<12.1f} {stats['total_energy_kwh']:<12.1f}\")\n    \n    # Visualize cycling patterns\n    fig, ((ax1, ax2), (ax3, ax4)) = plt.subplots(2, 2, figsize=(16, 12))\n    \n    # 1. Duty cycle comparison\n    ax1.bar(cycle_df.index, cycle_df['duty_cycle_percent'], color='lightblue', alpha=0.7)\n    ax1.set_ylabel('Duty Cycle (%)')\n    ax1.set_title('Heating Duty Cycle by Room')\n    ax1.tick_params(axis='x', rotation=45)\n    ax1.grid(True, alpha=0.3)\n    \n    # 2. Switching frequency\n    ax2.bar(cycle_df.index, cycle_df['total_switches'], color='orange', alpha=0.7)\n    ax2.set_ylabel('Total Switches')\n    ax2.set_title('Relay Switching Frequency by Room')\n    ax2.tick_params(axis='x', rotation=45)\n    ax2.grid(True, alpha=0.3)\n    \n    # 3. Average on/off times\n    x = np.arange(len(cycle_df.index))\n    width = 0.35\n    ax3.bar(x - width/2, cycle_df['avg_on_minutes'], width, label='Avg On Time', alpha=0.7)\n    ax3.bar(x + width/2, cycle_df['avg_off_minutes'], width, label='Avg Off Time', alpha=0.7)\n    ax3.set_ylabel('Minutes')\n    ax3.set_title('Average On/Off Periods')\n    ax3.set_xticks(x)\n    ax3.set_xticklabels(cycle_df.index, rotation=45)\n    ax3.legend()\n    ax3.grid(True, alpha=0.3)\n    \n    # 4. Energy consumption vs power rating\n    ax4.scatter(cycle_df['power_rating_kw'], cycle_df['total_energy_kwh'], \n                s=cycle_df['duty_cycle_percent']*5, alpha=0.6, c=cycle_df['duty_cycle_percent'], cmap='viridis')\n    ax4.set_xlabel('Power Rating (kW)')\n    ax4.set_ylabel('Total Energy Consumption (kWh)')\n    ax4.set_title('Energy vs Power Rating (size = duty cycle)')\n    \n    # Add room labels\n    for room in cycle_df.index:\n        ax4.annotate(room, (cycle_df.loc[room, 'power_rating_kw'], cycle_df.loc[room, 'total_energy_kwh']),\n                    xytext=(5, 5), textcoords='offset points', fontsize=8)\n    \n    ax4.grid(True, alpha=0.3)\n    \n    plt.tight_layout()\n    plt.show()\n    \n    # Efficiency analysis\n    print(f\"\\\\nRelay Efficiency Analysis:\")\n    print(\"-\" * 40)\n    \n    # Identify rooms with frequent switching (potentially inefficient)\n    avg_switches = cycle_df['total_switches'].mean()\n    frequent_switchers = cycle_df[cycle_df['total_switches'] > avg_switches * 1.5]\n    \n    if not frequent_switchers.empty:\n        print(f\"Rooms with high switching frequency (may need tuning):\")\n        for room in frequent_switchers.index:\n            switches = frequent_switchers.loc[room, 'total_switches']\n            print(f\"  {room}: {switches:.0f} switches (avg: {avg_switches:.0f})\")\n    \n    # Identify rooms with very short cycles (potentially inefficient)\n    short_cycle_rooms = cycle_df[cycle_df['avg_on_minutes'] < 10]\n    if not short_cycle_rooms.empty:\n        print(f\"\\\\nRooms with short heating cycles (<10 min):\")\n        for room in short_cycle_rooms.index:\n            on_time = short_cycle_rooms.loc[room, 'avg_on_minutes']\n            print(f\"  {room}: {on_time:.1f} min average on-time\")\n    \n    # Calculate overall system efficiency\n    total_energy = cycle_df['total_energy_kwh'].sum()\n    total_capacity = sum(ROOM_POWER.values())\n    analysis_hours = (end_date - start_date).total_seconds() / 3600\n    theoretical_max = total_capacity * analysis_hours\n    system_efficiency = (total_energy / theoretical_max) * 100 if theoretical_max > 0 else 0\n    \n    print(f\"\\\\nSystem Overview:\")\n    print(f\"Total heating capacity: {total_capacity:.1f} kW\")\n    print(f\"Analysis period: {analysis_hours:.0f} hours\")\n    print(f\"Total energy consumed: {total_energy:.1f} kWh\")\n    print(f\"System utilization: {system_efficiency:.1f}% of theoretical maximum\")\n    \nelse:\n    print(\"No relay data available for cycling analysis\")"
  },
  {
   "cell_type": "markdown",
   "metadata": {},
   "source": [
    "## 10. Optimization Opportunities"
   ]
  },
  {
   "cell_type": "code",
   "execution_count": null,
   "metadata": {},
   "outputs": [],
   "source": [
    "# Identify optimization opportunities\n",
    "print(\"Heating Optimization Opportunities\")\n",
    "print(\"=================================\")\n",
    "\n",
    "# 1. Identify overheated periods\n",
    "if not temp_data.empty:\n",
    "    overheated = temp_data[temp_data['_value'] > 23]  # Assuming 23°C as upper comfort limit\n",
    "    if not overheated.empty:\n",
    "        overheated_hours = overheated.groupby('hour').size()\n",
    "        print(f\"\\n1. Overheating detected during hours: {list(overheated_hours.index)}\")\n",
    "    \n",
    "    # 2. Identify rooms with high variability\n",
    "    if 'room' in temp_data.columns:\n",
    "        high_variability = room_stats[room_stats['std'] > 1.0]\n",
    "        if not high_variability.empty:\n",
    "            print(f\"\\n2. Rooms with high temperature variability: {list(high_variability.index)}\")\n",
    "    \n",
    "    # 3. Identify potential schedule optimizations\n",
    "    night_temps = temp_data[temp_data['hour'].between(0, 6)]\n",
    "    avg_night_temp = night_temps.groupby('room')['_value'].mean()\n",
    "    high_night_temp = avg_night_temp[avg_night_temp > 20]\n",
    "    if not high_night_temp.empty:\n",
    "        print(f\"\\n3. Rooms with high night temperatures: {list(high_night_temp.index)}\")\n",
    "        print(\"   Consider reducing night setpoints for energy savings\")\n",
    "\n",
    "# 4. Calculate potential savings\n",
    "print(\"\\n4. Potential Energy Savings:\")\n",
    "print(\"   - 1°C reduction in average temperature: ~6% energy savings\")\n",
    "print(\"   - Optimized scheduling: 10-15% potential savings\")\n",
    "print(\"   - Zone-based control: 5-10% additional savings\")"
   ]
  },
  {
   "cell_type": "markdown",
   "metadata": {},
   "source": "## 11. Key Findings and Recommendations for Relay-Based Heating\n\n### Summary of Relay Analysis\n\nBased on the heating relay pattern analysis, the key findings are:\n\n1. **Relay Switching Patterns**\n   - Binary on/off states control individual room heating\n   - Each room has specific power rating (0.22kW to 4.8kW)\n   - Duty cycles indicate heating demand by room and time\n   - Switching frequency shows system responsiveness\n\n2. **Energy Consumption Calculation**\n   - Energy = Relay State (0/1) × Power Rating × Time\n   - 15-minute intervals provide good resolution\n   - Total system capacity: ~18.6kW across all rooms\n   - Actual consumption based on relay duty cycles\n\n3. **Optimization Opportunities from Relay Data**\n   - High-frequency switching may indicate poor tuning\n   - Short on-cycles suggest oversized heating or aggressive control\n   - Low duty cycles in high-power rooms indicate efficiency\n   - Scheduling patterns reveal occupancy and comfort preferences\n\n### Relay-Specific Recommendations\n\n1. **Immediate Actions**\n   - Monitor rooms with >100 switches/day for control tuning\n   - Adjust deadband settings for rooms with <10 min cycles\n   - Schedule analysis shows optimal heating windows\n   - Consider zone grouping for similar usage patterns\n\n2. **Medium-term Improvements**\n   - Implement predictive relay control based on occupancy\n   - Optimize switching algorithms to reduce wear\n   - Use outdoor temperature compensation for relay timing\n   - Group low-power rooms for coordinated operation\n\n3. **Long-term Strategies**\n   - Upgrade to proportional valve control where beneficial\n   - Implement smart relay scheduling based on patterns\n   - Consider thermal mass in relay switching logic\n   - Integrate with renewable energy for optimal timing\n\n### Relay System Performance Metrics\n\n- **Duty Cycle Efficiency**: Lower cycles with maintained comfort\n- **Switching Optimization**: Reduce unnecessary state changes  \n- **Power Factor**: Balance high/low power rooms effectively\n- **Response Time**: Minimize time to reach target temperatures\n- **Energy Distribution**: Optimize power allocation across zones",
   "outputs": []
  }
 ],
 "metadata": {
  "kernelspec": {
   "display_name": "Python 3",
   "language": "python",
   "name": "python3"
  },
  "language_info": {
   "codemirror_mode": {
    "name": "ipython",
    "version": 3
   },
   "file_extension": ".py",
   "mimetype": "text/x-python",
   "name": "python",
   "nbconvert_exporter": "python",
   "pygments_lexer": "ipython3",
   "version": "3.11.0"
  }
 },
 "nbformat": 4,
 "nbformat_minor": 4
}